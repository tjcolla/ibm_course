{
 "cells": [
  {
   "cell_type": "markdown",
   "id": "841f9b71-5f99-4b0f-bf6b-48f8735fb8b5",
   "metadata": {},
   "source": [
    "# Data Science Tools and Ecosystem"
   ]
  },
  {
   "cell_type": "markdown",
   "id": "0ca02cf5-0849-47e5-81b8-20749abaccf2",
   "metadata": {},
   "source": [
    "## Author\n",
    "Taylor Collard"
   ]
  },
  {
   "cell_type": "markdown",
   "id": "4a31ef9b-9639-4b0d-9325-95573cccf991",
   "metadata": {},
   "source": [
    "In this notebook, Data Science Tools and Ecosystem are summarized"
   ]
  },
  {
   "cell_type": "markdown",
   "id": "4b34b6c3-aaa7-4cb3-ba4d-d56283fe0252",
   "metadata": {},
   "source": [
    "**Objectives:**\n",
    "- List popular languages for Data Science\n",
    "- List commonly used libraries for Data Science\n",
    "- List commonly used open source development environments\n",
    "- Demonstrate simple arithmetic using Python"
   ]
  },
  {
   "cell_type": "markdown",
   "id": "aa591ea2-70d1-48ac-b524-86d1e4a856cb",
   "metadata": {},
   "source": [
    "Some of the popular languages that Data Scientists use are:\n",
    "1. Python\n",
    "2. R\n",
    "3. SQL"
   ]
  },
  {
   "cell_type": "markdown",
   "id": "7eb910e6-c2d9-426e-82f3-93dc510d5f9d",
   "metadata": {},
   "source": [
    "Some of the commonly used libraries used by Data Scientists include:\n",
    "1. ggplot2\n",
    "2. Pandas\n",
    "3. NumPy\n",
    "4. dplyr"
   ]
  },
  {
   "cell_type": "markdown",
   "id": "49bc0658-bb33-4abe-8bac-6016f485c326",
   "metadata": {},
   "source": [
    "| Data Science tools |\n",
    "|----|\n",
    "| GitHub |\n",
    "| Visual Studio Code |\n",
    "| RStudio |"
   ]
  },
  {
   "cell_type": "markdown",
   "id": "92ec1761-88b6-4b14-94ab-707d93574287",
   "metadata": {},
   "source": [
    "### Below are a few examples of evaluating arithmetic expressions in Python"
   ]
  },
  {
   "cell_type": "code",
   "execution_count": 3,
   "id": "36b9aab5-8676-4792-ad12-4e3621766968",
   "metadata": {},
   "outputs": [
    {
     "data": {
      "text/plain": [
       "17"
      ]
     },
     "execution_count": 3,
     "metadata": {},
     "output_type": "execute_result"
    }
   ],
   "source": [
    "## This is a simple arithmetic expression to multiply then add integers\n",
    "(3*4)+5"
   ]
  },
  {
   "cell_type": "code",
   "execution_count": 4,
   "id": "8dc0a55d-8b21-4695-9fe4-74c542908bc7",
   "metadata": {},
   "outputs": [
    {
     "name": "stdout",
     "output_type": "stream",
     "text": [
      "3.3333333333333335\n"
     ]
    }
   ],
   "source": [
    "## This will convert 200 minutes to hours by dividing by 60\n",
    "minutes = 200\n",
    "hours = minutes / 60\n",
    "print(hours)"
   ]
  }
 ],
 "metadata": {
  "kernelspec": {
   "display_name": "Python 3 (ipykernel)",
   "language": "python",
   "name": "python3"
  },
  "language_info": {
   "codemirror_mode": {
    "name": "ipython",
    "version": 3
   },
   "file_extension": ".py",
   "mimetype": "text/x-python",
   "name": "python",
   "nbconvert_exporter": "python",
   "pygments_lexer": "ipython3",
   "version": "3.11.7"
  }
 },
 "nbformat": 4,
 "nbformat_minor": 5
}
