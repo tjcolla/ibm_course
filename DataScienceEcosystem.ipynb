{
 "cells": [
  {
   "cell_type": "code",
   "execution_count": null,
   "id": "fd14e422-39af-4299-90ce-37670b1e4335",
   "metadata": {},
   "outputs": [],
   "source": [
    "# Data Science Tools and Ecosystem"
   ]
  },
  {
   "cell_type": "code",
   "execution_count": null,
   "id": "c1297fb0-5824-46be-84ae-574532e10b08",
   "metadata": {},
   "outputs": [],
   "source": [
    "## Author\n",
    "Taylor Collard"
   ]
  },
  {
   "cell_type": "code",
   "execution_count": null,
   "id": "71a9af3f-9d6f-42fc-8813-e9f40421562b",
   "metadata": {},
   "outputs": [],
   "source": [
    "In this notebook, Data Science Tools and Ecosystem are summarized"
   ]
  },
  {
   "cell_type": "markdown",
   "id": "4b34b6c3-aaa7-4cb3-ba4d-d56283fe0252",
   "metadata": {},
   "source": [
    "**Objectives:**\n",
    "- List popular languages for Data Science\n",
    "- List commonly used libraries for Data Science\n",
    "- List commonly used open source development environments\n",
    "- Demonstrate simple arithmetic using Python"
   ]
  },
  {
   "cell_type": "markdown",
   "id": "30edaf2b-4793-4eea-8994-6ac0c1a899ed",
   "metadata": {},
   "source": [
    "Some of the popular languages that Data Scientists use are:\n",
    "1. Python\n",
    "2. R\n",
    "3. SQL"
   ]
  },
  {
   "cell_type": "markdown",
   "id": "1e8bdc93-1a4e-4dd9-8801-df19b5b138ac",
   "metadata": {},
   "source": [
    "Some of the commonly used libraries used by Data Scientists include:\n",
    "1. ggplot2\n",
    "2. Pandas\n",
    "3. NumPy\n",
    "4. dplyr"
   ]
  },
  {
   "cell_type": "code",
   "execution_count": null,
   "id": "24d5246c-d3e8-43d2-8a67-75daa666c344",
   "metadata": {},
   "outputs": [],
   "source": [
    "| Data Science tools |\n",
    "|----|\n",
    "| GitHub |\n",
    "| Visual Studio Code |\n",
    "| RStudio |"
   ]
  },
  {
   "cell_type": "markdown",
   "id": "92ec1761-88b6-4b14-94ab-707d93574287",
   "metadata": {},
   "source": [
    "### Below are a few examples of evaluating arithmetic expressions in Python"
   ]
  },
  {
   "cell_type": "code",
   "execution_count": 3,
   "id": "36b9aab5-8676-4792-ad12-4e3621766968",
   "metadata": {},
   "outputs": [
    {
     "data": {
      "text/plain": [
       "17"
      ]
     },
     "execution_count": 3,
     "metadata": {},
     "output_type": "execute_result"
    }
   ],
   "source": [
    "## This is a simple arithmetic expression to multiply then add integers\n",
    "(3*4)+5"
   ]
  },
  {
   "cell_type": "code",
   "execution_count": 4,
   "id": "8dc0a55d-8b21-4695-9fe4-74c542908bc7",
   "metadata": {},
   "outputs": [
    {
     "name": "stdout",
     "output_type": "stream",
     "text": [
      "3.3333333333333335\n"
     ]
    }
   ],
   "source": [
    "## This will convert 200 minutes to hours by dividing by 60\n",
    "minutes = 200\n",
    "hours = minutes / 60\n",
    "print(hours)"
   ]
  },
  {
   "cell_type": "markdown",
   "id": "3d8f3f0d-5054-4dee-b14a-41ff8e1b8f5f",
   "metadata": {},
   "source": []
  }
 ],
 "metadata": {
  "kernelspec": {
   "display_name": "Python 3 (ipykernel)",
   "language": "python",
   "name": "python3"
  },
  "language_info": {
   "codemirror_mode": {
    "name": "ipython",
    "version": 3
   },
   "file_extension": ".py",
   "mimetype": "text/x-python",
   "name": "python",
   "nbconvert_exporter": "python",
   "pygments_lexer": "ipython3",
   "version": "3.11.7"
  }
 },
 "nbformat": 4,
 "nbformat_minor": 5
}
